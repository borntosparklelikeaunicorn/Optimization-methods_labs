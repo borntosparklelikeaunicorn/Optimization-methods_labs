{
  "nbformat": 4,
  "nbformat_minor": 0,
  "metadata": {
    "colab": {
      "provenance": [],
      "collapsed_sections": [
        "3uk3mD1rhYr9"
      ]
    },
    "kernelspec": {
      "name": "python3",
      "display_name": "Python 3"
    },
    "language_info": {
      "name": "python"
    }
  },
  "cells": [
    {
      "cell_type": "markdown",
      "source": [
        "*6132-010402D  \n",
        "Гресько П.Н., Макарова М.К., Таджитдинов К.Ш.*"
      ],
      "metadata": {
        "id": "rvvAxRbTXAvO"
      }
    },
    {
      "cell_type": "markdown",
      "source": [
        "# Лабораторная работа 1  \n",
        "##Алгоритм летучих мышей  \n",
        "Алгоритм летучих мышей был предложен Синь-Янгом Янгом в 2010 году. Он основан на эхолокационном поведении летучих мышей в природе: летучие мыши используют импульсы ультразвука, чтобы обнаруживать препятствия и добычу."
      ],
      "metadata": {
        "id": "70znH0ErXPak"
      }
    },
    {
      "cell_type": "code",
      "source": [
        "import numpy as np\n",
        "import matplotlib.pyplot as plt\n",
        "from matplotlib.animation import FuncAnimation, PillowWriter\n",
        "import time\n",
        "from sklearn.metrics import mean_squared_error"
      ],
      "metadata": {
        "id": "lXPcIdKAa_BI"
      },
      "execution_count": null,
      "outputs": []
    },
    {
      "cell_type": "markdown",
      "source": [
        "##Целевые функции:  \n",
        "\n"
      ],
      "metadata": {
        "id": "U6e0_B4KZprM"
      }
    },
    {
      "cell_type": "markdown",
      "source": [
        "**Sine Wave Function**  \n",
        "\n",
        "$f(x, y) = (x - \\pi)^2 + (y - e)^2 + \\sin(3x + \\frac{2}{\\pi}) + \\sin(4y - \\frac{3}{e})$  \n",
        "\n",
        "> Гладкая, имеет множество локальных минимумов за счёт синусоидальных слагаемых"
      ],
      "metadata": {
        "id": "H5qZR4qZbk03"
      }
    },
    {
      "cell_type": "code",
      "execution_count": null,
      "metadata": {
        "id": "qmDAgYF1W6w7"
      },
      "outputs": [],
      "source": [
        "def func_sine_wave(x_array: np.ndarray, y_array: np.ndarray) -> np.ndarray:\n",
        "    return (x_array - 3.14) ** 2 + (y_array - 2.72) ** 2 + np.sin(3 * x_array + 1.41) + np.sin(4 * y_array - 1.73)"
      ]
    },
    {
      "cell_type": "markdown",
      "source": [
        "**Himmelblau's Function**  \n",
        "$f(x, y) = (x^2 + y - 11)^2 + (x + y^2 - 7)^2$\n",
        "\n",
        "\n",
        "> Мультиэкстремальная, имеет 4 глобальных минимума."
      ],
      "metadata": {
        "id": "k2bFIgtfbJOB"
      }
    },
    {
      "cell_type": "code",
      "source": [
        "def func_Himmelblau(x_array: np.ndarray, y_array: np.ndarray) -> np.ndarray:\n",
        "    return (x_array ** 2 + y_array - 11) ** 2 + (x_array + y_array ** 2 - 7) ** 2"
      ],
      "metadata": {
        "id": "fcW1b3J_bXfz"
      },
      "execution_count": null,
      "outputs": []
    },
    {
      "cell_type": "markdown",
      "source": [
        "**Rastrigin Function**  \n",
        "$f(x, y) = A \\cdot 2 + \\left[x^2 - A \\cos(2\\pi x)\\right] + \\left[y^2 - A \\cos(2\\pi y)\\right]$  \n",
        "\n",
        "\n",
        "> Периодическая, сильно мультиэкстремальная, глобальный минимум в начале координат.\n",
        "\n"
      ],
      "metadata": {
        "id": "coKCNe_vbetT"
      }
    },
    {
      "cell_type": "code",
      "source": [
        "def func_Rastrigin(x: np.ndarray, y: np.ndarray, A: float = 10) -> np.ndarray:\n",
        "    return (A * 2) + (x ** 2 - A * np.cos(2 * np.pi * x)) + (y ** 2 - A * np.cos(2 * np.pi * y))"
      ],
      "metadata": {
        "id": "hLiNcVn6b1mS"
      },
      "execution_count": null,
      "outputs": []
    },
    {
      "cell_type": "markdown",
      "source": [
        "**Eggholder Function**  \n",
        "$f(x, y) = -(y + 47) \\sin\\left(\\left| \\frac{x}{2} + y + 47 \\right|\\right) - x \\sin\\left(\\left| x - (y + 47) \\right|\\right)$  \n",
        "\n",
        "\n",
        "> Сложная и разрывная, имеет множество глубоких локальных минимумов\n",
        "\n"
      ],
      "metadata": {
        "id": "lFvXf064b7-c"
      }
    },
    {
      "cell_type": "code",
      "source": [
        "def func_Eggholder(x_array, y_array):\n",
        "    return -(y_array + 47) * np.sin(np.sqrt(np.abs(x_array / 2 + (y_array + 47)))) - x_array * np.sin(\n",
        "        np.sqrt(np.abs(x_array - (y_array + 47))))"
      ],
      "metadata": {
        "id": "SPZ3cax-cMki"
      },
      "execution_count": null,
      "outputs": []
    },
    {
      "cell_type": "markdown",
      "source": [
        "**Rosenbrock Function**  \n",
        "$f(x, y) = (1 - x)^2 + A(y - x^2)^2$  \n",
        "\n",
        "\n",
        "> Узкая долина с глобальным минимумом, сложна для оптимизации.\n",
        "\n"
      ],
      "metadata": {
        "id": "Z1WPkt-lcR8p"
      }
    },
    {
      "cell_type": "code",
      "source": [
        "def func_Rosenbrock(x: np.ndarray, y: np.ndarray, A: float = 100) -> np.ndarray:\n",
        "    return (1 - x) ** 2 + A * (y - x ** 2) ** 2"
      ],
      "metadata": {
        "id": "u26HQkktccR8"
      },
      "execution_count": null,
      "outputs": []
    },
    {
      "cell_type": "markdown",
      "source": [
        "##Визуализация"
      ],
      "metadata": {
        "id": "3uk3mD1rhYr9"
      }
    },
    {
      "cell_type": "code",
      "source": [
        "#Визуализация процесса оптимизации\n",
        "def display_plot(x_array: np.ndarray, y_array: np.ndarray, f_array: np.ndarray, f_name: str, x_pos: np.ndarray,\n",
        "                 y_pos: np.ndarray):\n",
        "    fig, ax = plt.subplots(figsize=(8, 6))\n",
        "\n",
        "    #Отображение значений функции в виде цветовой карты\n",
        "    im = ax.imshow(f_array, extent=[x_array.min(), x_array.max(), y_array.min(), y_array.max()],\n",
        "                   origin='lower', cmap='viridis', alpha=0.5)\n",
        "    plt.colorbar(im)\n",
        "\n",
        "    #Нахождение глобального минимума на сетке\n",
        "    x_min = x_array.ravel()[f_array.argmin()]\n",
        "    y_min = y_array.ravel()[f_array.argmin()]\n",
        "\n",
        "    #Отображение минимума\n",
        "    ax.plot([x_min], [y_min], marker='x', markersize=10, color=\"white\")\n",
        "\n",
        "    #Изолинии функции\n",
        "    contours = ax.contour(x_array, y_array, f_array, 10, colors='black', alpha=0.4)\n",
        "    ax.clabel(contours, inline=True, fontsize=8, fmt=\"%.0f\")\n",
        "\n",
        "    ax.set_title(f\"Изолинии функции {f_name}\")\n",
        "\n",
        "    #Отображение положения популяции\n",
        "    scatter = ax.scatter(x_pos, y_pos, marker='x', color=\"black\", s=5)\n",
        "\n",
        "    #Анимация по итерациям\n",
        "    def update(frame):\n",
        "        scatter.set_offsets(np.column_stack((x_pos[frame], y_pos[frame])))\n",
        "        ax.set_title(f\"Функция: {f_name} | Итерация: {frame}\")\n",
        "\n",
        "    anim = FuncAnimation(fig, update, frames=x_pos.shape[0], interval=200)\n",
        "    gif_filename = f\"{f_name}_animation.gif\"\n",
        "    anim.save(gif_filename, writer=PillowWriter(fps=5))\n",
        "    plt.show()"
      ],
      "metadata": {
        "id": "DS7I1cZidJWD"
      },
      "execution_count": null,
      "outputs": []
    },
    {
      "cell_type": "markdown",
      "source": [
        "##Основной запуск и алгоритм летучих мышей"
      ],
      "metadata": {
        "id": "Q1_1KP8wheOV"
      }
    },
    {
      "cell_type": "markdown",
      "source": [
        "####Описание происходящего:  \n",
        "Каждая летучая мышь ищет минимум функции, изменяя свою позицию в пространстве поиска, используя скорость, частоту, громкость (Loudness) и частоту испускания импульсов (Pulse Rate). Это поведение адаптируется с течением времени.  \n",
        "Каждая летучая мышь размещается случайным образом в пространстве, и сразу вычисляется её значение функции в этой точке, также инициализируются ее скорости, частоты, громкости и импульсные параметры.  \n",
        "Каждая летучая мышь:  \n",
        "Выбирает частоту случайным образом.\n",
        "1. Обновляет скорость в сторону лучшего найденного решения.\n",
        "2. Обновляет позицию, используя эту скорость.  \n",
        "\n",
        "Ограничивается внутри допустимого диапазона.\n",
        "    \n",
        "С определенной вероятностью (по Pulse Rate), летучая мышь может:\n",
        "3. Совершить локальное случайное блуждание, используя среднюю громкость.\n",
        "6. Принять новое положение, если оно лучше, чем текущее (меньшее значение функции).\n",
        "4. Уменьшить громкость (имитирует затухание сигнала).\n",
        "5. Увеличить импульсную частоту (имитирует приближение к цели).\n",
        "\n",
        "Обновление лучшего решения:\n",
        "7. Если новая позиция лучше глобального минимума — обновляется глобальный минимум.  \n",
        "\n",
        "Таким образом, летучие мыши стремятся к глобальному минимуму, используя как информацию о текущем наилучшем решении, так и локальные случайные отклонения."
      ],
      "metadata": {
        "id": "UlXCXY3ZpGM0"
      }
    },
    {
      "cell_type": "markdown",
      "source": [
        "Характеристика переменных:  \n",
        "\n",
        "| Переменная           | Описание                                             |\n",
        "|----------------------|------------------------------------------------------|\n",
        "| `OLD_position_x`, `OLD_position_y` | Текущие координаты летучих мышей                |\n",
        "| `array_Velocity_x`, `array_Velocity_y` | Скорости перемещения по осям                 |\n",
        "| `Fitness`            | Значения целевой функции для каждой летучей мыши     |\n",
        "| `Loudness`           | Громкость сигнала (со временем убывает)              |\n",
        "| `Pulse_Rate`         | Частота импульсов (со временем увеличивается)        |\n",
        "| `best_index`, `best_fit` | Индекс и значение лучшего решения             |\n",
        "| `x_pos_all`, `y_pos_all` | Массивы всех траекторий движения популяции     |\n",
        "| `frequency_max`, `frequency_min` | Границы диапазона изменения частоты       |\n",
        "| `Br`, `Ba`           | Коэффициенты изменения `Pulse_Rate` и `Loudness`     |\n"
      ],
      "metadata": {
        "id": "qGy8hTZzhSen"
      }
    },
    {
      "cell_type": "markdown",
      "source": [
        "####Формулы, реализованные в алгоритме:  \n",
        "1. Обновление скорости  \n",
        "$\n",
        "v_i(t) = v_i(t-1) + (x^* - x_i(t-1)) \\cdot f_i\n",
        "$\n",
        "\n",
        "где:\n",
        "- $f_i$ — частота летучей мыши,\n",
        "- $x^*$ — текущее лучшее решение.  \n",
        "\n",
        "\n",
        "---\n",
        "\n",
        "\n",
        "2. Обновление позиции  \n",
        "$\n",
        "x_i(t) = x_i(t-1) + v_i(t)\n",
        "$\n",
        "\n",
        "\n",
        "---\n",
        "\n",
        "\n",
        "3. Локальное случайное блуждание  \n",
        "$\n",
        "x_{\\text{new}} = x_i + \\bar{A} \\cdot \\text{rand}(-1, 1)\n",
        "$\n",
        "\n",
        "где $\\bar{A}$ — средняя громкость.\n",
        "\n",
        "\n",
        "---\n",
        "\n",
        "\n",
        "4. Обновление громкости  \n",
        "$\n",
        "A_i(t+1) = \\alpha \\cdot A_i(t)\n",
        "$\n",
        "\n",
        "\n",
        "---\n",
        "\n",
        "\n",
        "5. Обновление частоты импульсов  \n",
        "$\n",
        "r_i(t+1) = r_i^0 \\cdot (1 - e^{-\\gamma t})\n",
        "$\n",
        "\n",
        "\n",
        "---\n",
        "\n",
        "\n",
        "6.  Условие приёма новой позиции  \n",
        "$\n",
        "f(x_{\\text{new}}) \\leq f(x_i)\n",
        "$\n",
        "\n",
        "\n",
        "---\n",
        "\n",
        "\n",
        "7. Обновление глобального минимума  \n",
        "$\n",
        "f(x_i) < f(x^*) \\Rightarrow x^* = x_i\n",
        "$"
      ],
      "metadata": {
        "id": "o8SZrdVii23x"
      }
    },
    {
      "cell_type": "code",
      "source": [
        "def bat_algorithm(func_opt, X, Y, iterations, population=30,\n",
        "                  frequency_min=0.5, frequency_max=1.5,\n",
        "                  a_min=0.5, a_max=2,\n",
        "                  Pulse_min=0, Pulse_max=1.5,\n",
        "                  Br=0.7, Ba=0.7,\n",
        "                  tol=1e-9, patience=10):\n",
        "    # Инициализация\n",
        "    position_x = np.random.uniform(X.min(), X.max(), population)\n",
        "    position_y = np.random.uniform(Y.min(), Y.max(), population)\n",
        "    Fitness = func_opt(position_x, position_y)\n",
        "\n",
        "    velocity_x = np.zeros(population)\n",
        "    velocity_y = np.zeros(population)\n",
        "\n",
        "    Loudness = a_min + (a_max - a_min) * np.random.rand(population)\n",
        "    Pulse_Rate_start = Pulse_min + (Pulse_max - Pulse_min) * np.random.rand(population)\n",
        "    Pulse_Rate = np.copy(Pulse_Rate_start)\n",
        "\n",
        "    x_pos_all = np.empty((0, population))\n",
        "    y_pos_all = np.empty((0, population))\n",
        "\n",
        "    best_index = np.argmin(Fitness)\n",
        "    best_fit = Fitness[best_index]\n",
        "\n",
        "    # Критерий остановки\n",
        "    best_fit_prev = best_fit\n",
        "    no_improve_count = 0\n",
        "    stop_iteration = iterations\n",
        "\n",
        "    start_time = time.time()\n",
        "\n",
        "    for step in range(iterations):\n",
        "        for bat in range(population):\n",
        "            Bat_Frequency = frequency_min + (frequency_max - frequency_min) * np.random.rand()\n",
        "\n",
        "            velocity_x[bat] += (position_x[best_index] - position_x[bat]) * Bat_Frequency\n",
        "            velocity_y[bat] += (position_y[best_index] - position_y[bat]) * Bat_Frequency\n",
        "\n",
        "            new_x = position_x[bat] + velocity_x[bat]\n",
        "            new_y = position_y[bat] + velocity_y[bat]\n",
        "\n",
        "            new_x = np.clip(new_x, X.min(), X.max())\n",
        "            new_y = np.clip(new_y, Y.min(), Y.max())\n",
        "\n",
        "            if Pulse_min + (Pulse_max - Pulse_min) * np.random.rand() >= Pulse_Rate[bat]:\n",
        "                k = 0\n",
        "                while k < 5:\n",
        "                    new_x = position_x[bat] + np.mean(Loudness) * np.random.uniform(-1, 1)\n",
        "                    new_y = position_y[bat] + np.mean(Loudness) * np.random.uniform(-1, 1)\n",
        "\n",
        "                    new_x = np.clip(new_x, X.min(), X.max())\n",
        "                    new_y = np.clip(new_y, Y.min(), Y.max())\n",
        "\n",
        "                    new_fitness = func_opt(new_x, new_y)\n",
        "\n",
        "                    if new_fitness <= Fitness[bat]:\n",
        "                        Fitness[bat] = new_fitness\n",
        "                        position_x[bat] = new_x\n",
        "                        position_y[bat] = new_y\n",
        "                        Loudness[bat] *= Ba\n",
        "                        Pulse_Rate[bat] = Pulse_Rate_start[bat] * (1 - np.exp(-Br * (step + 1)))\n",
        "                        break\n",
        "                    k += 1\n",
        "\n",
        "            if Fitness[bat] < best_fit:\n",
        "                best_index = bat\n",
        "                best_fit = Fitness[best_index]\n",
        "\n",
        "        x_pos_all = np.concatenate((x_pos_all, position_x.reshape(1, population)))\n",
        "        y_pos_all = np.concatenate((y_pos_all, position_y.reshape(1, population)))\n",
        "\n",
        "        # Проверка критерия остановки\n",
        "        if abs(best_fit_prev - best_fit) < tol:\n",
        "            no_improve_count += 1\n",
        "        else:\n",
        "            no_improve_count = 0\n",
        "            best_fit_prev = best_fit\n",
        "\n",
        "        if no_improve_count >= patience:\n",
        "            stop_iteration = step + 1\n",
        "            #print(f\"Критерий остановки достигнут на итерации: {stop_iteration}\")\n",
        "            break\n",
        "\n",
        "    elapsed_time = time.time() - start_time\n",
        "    best_x = position_x[best_index]\n",
        "    best_y = position_y[best_index]\n",
        "\n",
        "    return best_x, best_y, best_fit, x_pos_all, y_pos_all, elapsed_time, stop_iteration"
      ],
      "metadata": {
        "id": "l-5GN55VuqVZ"
      },
      "execution_count": null,
      "outputs": []
    },
    {
      "cell_type": "code",
      "source": [
        "name_func = \"sine_wave\"\n",
        "#name_func = \"Himmelblau\"\n",
        "#name_func = \"Rastrigin\"\n",
        "#name_func = \"Rosenbrock\"\n",
        "#name_func = \"Eggholder\"\n",
        "\n",
        "dic_func = {\"sine_wave\": [func_sine_wave, 0, 5],\n",
        "            \"Himmelblau\": [func_Himmelblau, -5, 5],\n",
        "            \"Rastrigin\": [func_Rastrigin, -5.12, 5.12],\n",
        "            \"Rosenbrock\": [func_Rosenbrock, -3, 3],\n",
        "            \"Eggholder\": [func_Eggholder, -512, 512]}\n",
        "\n",
        "func_opt = dic_func[name_func][0]\n",
        "min_x = dic_func[name_func][1]\n",
        "max_x = dic_func[name_func][2]\n",
        "\n",
        "num = 1000\n",
        "x = np.linspace(min_x, max_x, num)\n",
        "y = np.linspace(min_x, max_x, num)\n",
        "X, Y = np.meshgrid(x, y)\n",
        "f_array = func_opt(X, Y)\n",
        "\n",
        "# Глобальный минимум на сетке\n",
        "min_index = np.unravel_index(np.argmin(f_array), f_array.shape)\n",
        "x_min = X[min_index]\n",
        "y_min = Y[min_index]\n",
        "min_val = f_array[min_index]\n",
        "\n",
        "iterations = 100\n",
        "\n",
        "#Параметры алгоритма летучих мышей\n",
        "frequency_max = 1.5\n",
        "frequency_min = 0.5\n",
        "\n",
        "a_min = 0.5\n",
        "a_max = 2\n",
        "\n",
        "Pulse_max = 1.5\n",
        "Pulse_min = 0\n",
        "\n",
        "Br = 0.7  #параметр затухания Pulse_Rate\n",
        "Ba = 0.7  #параметр затухания Loudness\n",
        "\n",
        "num_runs = 20\n",
        "\n",
        "best_x_list = []\n",
        "best_y_list = []\n",
        "best_fit_list = []\n",
        "rmse_list = []\n",
        "time_list = []\n",
        "stop_iter_list = []\n",
        "\n",
        "# Чтобы сохранить позиции для лучшего результата\n",
        "best_run_index = None\n",
        "best_run_x_pos_all = None\n",
        "best_run_y_pos_all = None\n",
        "\n",
        "for i in range(num_runs):\n",
        "    best_x, best_y, best_fit, x_pos_all, y_pos_all, elapsed_time, stop_iteration = bat_algorithm(\n",
        "        func_opt, X, Y, iterations, population=30, frequency_min=frequency_min, frequency_max=frequency_max,\n",
        "        a_min=a_min, a_max=a_max, Pulse_min=Pulse_min, Pulse_max=Pulse_max, Br=Br, Ba=Ba)\n",
        "\n",
        "    best_x_list.append(best_x)\n",
        "    best_y_list.append(best_y)\n",
        "    best_fit_list.append(best_fit)\n",
        "    time_list.append(elapsed_time)\n",
        "    stop_iter_list.append(stop_iteration)\n",
        "\n",
        "    rmse = np.sqrt(mean_squared_error([[x_min, y_min]], [[best_x, best_y]]))\n",
        "    rmse_list.append(rmse)\n",
        "\n",
        "    if best_run_index is None or rmse < rmse_list[best_run_index]:\n",
        "        best_run_index = i\n",
        "        best_run_x_pos_all = x_pos_all\n",
        "        best_run_y_pos_all = y_pos_all\n",
        "\n",
        "mean_x = np.mean(best_x_list)\n",
        "mean_y = np.mean(best_y_list)\n",
        "mean_fit = np.mean(best_fit_list)\n",
        "mean_rmse = np.mean(rmse_list)\n",
        "mean_time = np.mean(time_list)\n",
        "mean_stop_iter = np.mean(stop_iter_list)\n",
        "\n",
        "best_index = np.argmin(rmse_list)\n",
        "\n",
        "best_x_best = best_x_list[best_index]\n",
        "best_y_best = best_y_list[best_index]\n",
        "best_fit_best = best_fit_list[best_index]\n",
        "best_rmse_best = rmse_list[best_index]\n",
        "\n",
        "print(f\"Оптимизируемая функция: {name_func}\")\n",
        "print(f\"Глобальный минимум на сетке: f({x_min:.5f}, {y_min:.5f}) = {min_val:.5f}\\n\")\n",
        "\n",
        "print(f\"Найденный минимум:\")\n",
        "print(f\"f({best_x_best:.5f}, {best_y_best:.5f}) = {best_fit_best:.5f}\")\n",
        "print(f\"RMSE: {best_rmse_best:.5f}\")\n",
        "print(f\"Среднее время выполнения: {mean_time:.2f} секунд\")\n",
        "print(f\"Средняя итерация остановки: {mean_stop_iter:.1f}\")\n",
        "\n",
        "display_plot(X, Y, f_array, name_func, best_run_x_pos_all, best_run_y_pos_all)"
      ],
      "metadata": {
        "colab": {
          "base_uri": "https://localhost:8080/",
          "height": 684
        },
        "id": "BYrkVLI6uvDN",
        "outputId": "d2c36500-f6ba-46f6-f6ff-067aa5a30ff3"
      },
      "execution_count": null,
      "outputs": [
        {
          "output_type": "stream",
          "name": "stdout",
          "text": [
            "Оптимизируемая функция: sine_wave\n",
            "Глобальный минимум на сетке: f(3.18318, 3.12813) = -1.80831\n",
            "\n",
            "Найденный минимум:\n",
            "f(3.18437, 3.12813) = -1.80832\n",
            "RMSE: 0.00084\n",
            "Среднее время выполнения: 4.18 секунд\n",
            "Средняя итерация остановки: 28.4\n"
          ]
        },
        {
          "output_type": "display_data",
          "data": {
            "text/plain": [
              "<Figure size 800x600 with 2 Axes>"
            ],
            "image/png": "[encoded data removed]"
          },
          "metadata": {}
        }
      ]
    },
    {
      "cell_type": "markdown",
      "source": [
        "####Результаты (алгоритм летучих мышей):"
      ],
      "metadata": {
        "id": "13mIq43VSRDZ"
      }
    },
    {
      "cell_type": "markdown",
      "source": [
        "| Функция       | Глобальный минимум на сетке           | Средняя итерация остановки | Найденный минимум               | RMSE    | Среднее время выполнения (с) |\n",
        "|---------------|--------------------------------------|----------------------------|--------------------------------|---------|------------------------------|\n",
        "| sine_wave     | f(3.18318, 3.12813) = -1.80831       | 30                         | f(3.18443, 3.12952) = -1.80835 | 0.00132 | 4.60                         |\n",
        "| Himmelblau    | f(2.99800, 1.99700) = 0.00042         | 32                         | f(2.99942, 2.00127) = 0.00003   | 0.00318 | 4.54                         |\n",
        "| Rastrigin     | f(-0.00513, -0.00513) = 0.01042       | 18.4                       | f(-0.02982, -0.00797) = 0.18844 | 0.01757 | 2.76                         |\n",
        "| Rosenbrock    | f(1.00000, 1.00000) = 0.00000         | 29.1                       | f(0.99962, 0.99880) = 0.00002   | 0.00089 | 4.00                         |\n",
        "| Eggholder     | f(512.00000, 404.37237) = -959.61818  | 76                         | f(512.00000, 417.74864) = -745.17749 | 9.45845 | 7.19                     |\n"
      ],
      "metadata": {
        "id": "-t9-6bdjQ-v7"
      }
    },
    {
      "cell_type": "markdown",
      "source": [
        "##Градиентный спуск"
      ],
      "metadata": {
        "id": "ipQRR9NQU2t_"
      }
    },
    {
      "cell_type": "markdown",
      "source": [
        "Стохастический градиентный спуск — это метод оптимизации, использующий градиенты функции для минимизации или максимизации параметров модели. В отличие от классического градиентного спуска, который использует полную информацию о функции на всей выборке, стохастический градиентный спуск обновляет параметры на основе случайных выборок данных.  "
      ],
      "metadata": {
        "id": "RfGxKFPLbc8D"
      }
    },
    {
      "cell_type": "markdown",
      "source": [
        "\n",
        "1. **Инициализация**: случайным образом выбираются начальные значения для параметров $x$ и $y$.\n",
        "\n",
        "2. **Вычисление градиента**: для случайной точки $(x, y)$ вычисляется градиент функции потерь по $x$ и $y$:\n",
        "   \n",
        "   $$\n",
        "   \\nabla f(x, y) = \\left( \\frac{\\partial f}{\\partial x}, \\frac{\\partial f}{\\partial y} \\right)\n",
        "   $$\n",
        "\n",
        "3. **Обновление параметров**: параметры обновляются по формуле:\n",
        "   \n",
        "   $$\n",
        "   x_{\\text{new}} = x_{\\text{old}} - \\eta \\cdot \\frac{\\partial f}{\\partial x}, \\quad y_{\\text{new}} = y_{\\text{old}} - \\eta \\cdot \\frac{\\partial f}{\\partial y}\n",
        "   $$\n",
        "   \n",
        "   где $\\eta$ — это шаг обучения (или коэффициент обновления).\n",
        "\n",
        "4. **Ограничение**: обновленные значения ограничиваются в пределах заранее заданных границ.\n",
        "\n",
        "5. **Повторение**: шаги 2-4 повторяются для заданного числа итераций.\n",
        "\n",
        "Математическое выражение градиентов:\n",
        "\n",
        "- Градиент по $x$:\n",
        "  \n",
        "  $$\n",
        "  \\text{grad}_x = \\frac{f(x + \\epsilon, y) - f(x - \\epsilon, y)}{2\\epsilon}\n",
        "  $$\n",
        "\n",
        "- Градиент по $y$:\n",
        "  \n",
        "  $$\n",
        "  \\text{grad}_y = \\frac{f(x, y + \\epsilon) - f(x, y - \\epsilon)}{2\\epsilon}\n",
        "  $$\n"
      ],
      "metadata": {
        "id": "npuHtt6Rb3hm"
      }
    },
    {
      "cell_type": "code",
      "source": [
        "def compute_gradient(func, x, y):\n",
        "    epsilon = 1e-5\n",
        "    grad_x = (func(x + epsilon, y) - func(x - epsilon, y)) / (2 * epsilon)\n",
        "    grad_y = (func(x, y + epsilon) - func(x, y - epsilon)) / (2 * epsilon)\n",
        "    return grad_x, grad_y"
      ],
      "metadata": {
        "id": "Tr9bZ0R6U_RJ"
      },
      "execution_count": null,
      "outputs": []
    },
    {
      "cell_type": "code",
      "source": [
        "#name_func = \"Himmelblau\"\n",
        "#name_func = \"Rastrigin\"\n",
        "#name_func = \"Rosenbrock\"\n",
        "#name_func = \"Eggholder\"\n",
        "name_func = \"sine_wave\"\n",
        "\n",
        "dic_func = {\"sine_wave\": [func_sine_wave, 0, 5],\n",
        "            \"Himmelblau\": [func_Himmelblau, -5, 5],\n",
        "            \"Rastrigin\": [func_Rastrigin, -5.12, 5.12],\n",
        "            \"Rosenbrock\": [func_Rosenbrock, -3, 3],\n",
        "            \"Eggholder\": [func_Eggholder, -512, 512]}\n",
        "\n",
        "func_opt = dic_func[name_func][0]\n",
        "min_x = dic_func[name_func][1]\n",
        "max_x = dic_func[name_func][2]\n",
        "\n",
        "tol = 1e-9\n",
        "patience = 10\n",
        "\n",
        "num = 1000\n",
        "x = np.linspace(min_x, max_x, num)\n",
        "y = np.linspace(min_x, max_x, num)\n",
        "X, Y = np.meshgrid(x, y)\n",
        "f_array = func_opt(X, Y)\n",
        "\n",
        "min_index = np.unravel_index(np.argmin(f_array), f_array.shape)\n",
        "x_min = X[min_index]\n",
        "y_min = Y[min_index]\n",
        "min_val = f_array[min_index]\n",
        "\n",
        "print(f\"Оптимизируемая функция: {name_func}\")\n",
        "print(f\"Глобальный минимум на сетке: f({x_min:.5f}, {y_min:.5f}) = {min_val:.5f}\\n\")\n",
        "\n",
        "steps = 0.01\n",
        "iterations = 100\n",
        "runs = 20\n",
        "\n",
        "# Для усреднения результатов по 20 запускам\n",
        "best_fits = []\n",
        "rmse_all = []\n",
        "times = []\n",
        "iterations_stopped = []\n",
        "best_xs = []\n",
        "best_ys = []\n",
        "\n",
        "for run in range(runs):\n",
        "    current_x = np.random.uniform(X.min(), X.max())\n",
        "    current_y = np.random.uniform(Y.min(), Y.max())\n",
        "    x_pos_all = []\n",
        "    y_pos_all = []\n",
        "\n",
        "    start_time = time.time()\n",
        "\n",
        "    best_fit = func_opt(current_x, current_y)\n",
        "    best_x, best_y = current_x, current_y\n",
        "    no_improve_count = 0\n",
        "    stop_iter = iterations  # итерация остановки\n",
        "\n",
        "    for step in range(iterations):\n",
        "        random_x = np.random.uniform(X.min(), X.max())\n",
        "        random_y = np.random.uniform(Y.min(), Y.max())\n",
        "\n",
        "        grad_x, grad_y = compute_gradient(func_opt, random_x, random_y)\n",
        "\n",
        "        current_x -= steps * grad_x\n",
        "        current_y -= steps * grad_y\n",
        "\n",
        "        current_x = np.clip(current_x, X.min(), X.max())\n",
        "        current_y = np.clip(current_y, Y.min(), Y.max())\n",
        "\n",
        "        current_fit = func_opt(current_x, current_y)\n",
        "\n",
        "        if best_fit - current_fit > tol:\n",
        "            best_fit = current_fit\n",
        "            best_x, best_y = current_x, current_y\n",
        "            no_improve_count = 0\n",
        "        else:\n",
        "            no_improve_count += 1\n",
        "\n",
        "        if no_improve_count >= patience:\n",
        "            stop_iter = step + 1\n",
        "            break\n",
        "\n",
        "        x_pos_all.append(current_x)\n",
        "        y_pos_all.append(current_y)\n",
        "\n",
        "    end_time = time.time()\n",
        "    elapsed_time = end_time - start_time\n",
        "\n",
        "    rmse = np.sqrt(((x_min - best_x) ** 2 + (y_min - best_y) ** 2) / 2)\n",
        "\n",
        "    best_fits.append(best_fit)\n",
        "    best_xs.append(best_x)\n",
        "    best_ys.append(best_y)\n",
        "    rmse_all.append(rmse)\n",
        "    times.append(elapsed_time)\n",
        "    iterations_stopped.append(stop_iter)\n",
        "\n",
        "mean_x = np.mean(best_xs)\n",
        "mean_y = np.mean(best_ys)\n",
        "mean_fit = np.mean(best_fits)\n",
        "\n",
        "print(f\"Среднее количество итераций: {np.mean(iterations_stopped):.1f}\")\n",
        "print(f\"Среднее время: {np.mean(times):.2f} сек\")\n",
        "print(f\"Найденный минимум: f({mean_x:.5f}, {mean_y:.5f}) = {mean_fit:.5f}\")\n",
        "print(f\"RMSE: {np.mean(rmse_all):.5f}\")\n",
        "\n",
        "#x_pos_all = np.array(x_pos_all).reshape(-1, 1)\n",
        "#y_pos_all = np.array(y_pos_all).reshape(-1, 1)\n",
        "#display_plot(X, Y, f_array, name_func, x_pos_all, y_pos_all)"
      ],
      "metadata": {
        "colab": {
          "base_uri": "https://localhost:8080/"
        },
        "id": "QW_jd8AkU6oT",
        "outputId": "2de9a8ab-c57d-4b52-fb8a-1e5c57ee3035"
      },
      "execution_count": null,
      "outputs": [
        {
          "output_type": "stream",
          "name": "stdout",
          "text": [
            "Оптимизируемая функция: sine_wave\n",
            "Глобальный минимум на сетке: f(3.18318, 3.12813) = -1.80831\n",
            "\n",
            "Среднее количество итераций: 23.4\n",
            "Среднее время: 0.08 сек\n",
            "Найденный минимум: f(3.02620, 2.75029) = 2.46621\n",
            "RMSE: 1.14946\n"
          ]
        }
      ]
    },
    {
      "cell_type": "markdown",
      "source": [
        "#### Результаты (градиентный спуск):"
      ],
      "metadata": {
        "id": "GtI1tnpRe1J-"
      }
    },
    {
      "cell_type": "markdown",
      "source": [
        "| Оптимизируемая функция | Глобальный минимум на сетке           | Среднее количество итераций | Среднее время (сек) | Найденный минимум                   | RMSE     |\n",
        "|------------------------|---------------------------------------|------------------------------|---------------------|--------------------------------------|----------|\n",
        "| sine_wave              | f(3.18318, 3.12813) = -1.80831        | 20.4                         | 0.07                | f(3.17820, 2.43771) = 3.13741        | 1.26326  |\n",
        "| Himmelblau             | f(2.99800, 1.99700) = 0.00042         | 16.1                         | 0.05                | f(0.42302, -0.17433) = 34.81891      | 3.10941  |\n",
        "| Rastrigin              | f(-0.00513, -0.00513) = 0.01042       | 16.3                         | 0.05                | f(0.86018, 1.02981) = 18.23443       | 2.47319  |\n",
        "| Rosenbrock             | f(1.00000, 1.00000) = 0.00000         | 14.9                         | 0.06                | f(0.21207, 1.55188) = 460.26667      | 1.62554  |\n",
        "| Eggholder              | f(512.00000, 404.37237) = -959.61818  | 21.3                         | 0.06                | f(34.47161, 0.33472) = 4.02136       | 476.15025|\n"
      ],
      "metadata": {
        "id": "inMfzxZHehmE"
      }
    },
    {
      "cell_type": "markdown",
      "source": [
        "##Метод Ньютона"
      ],
      "metadata": {
        "id": "DgE4sG0fejEe"
      }
    },
    {
      "cell_type": "markdown",
      "source": [
        "Метод Ньютона — это численный метод оптимизации, используемый для поиска локального минимума (или максимума) функции. Он основывается на аппроксимации функции с помощью её второй степени (квадратичного приближения) и использует градиент и гессиан для определения направления и величины шага.  \n",
        "Гессиан — это квадратная матрица вторых производных функции."
      ],
      "metadata": {
        "id": "Du4-HtTxiTtm"
      }
    },
    {
      "cell_type": "markdown",
      "source": [
        "**Градиент (вектор первых производных):**\n",
        "\n",
        "$$\n",
        "\\nabla f(x, y) =\n",
        "\\begin{bmatrix}\n",
        "\\frac{\\partial f}{\\partial x} \\\\\n",
        "\\frac{\\partial f}{\\partial y}\n",
        "\\end{bmatrix}\n",
        "$$\n",
        "\n",
        "**Гессиан (матрица вторых производных):**\n",
        "\n",
        "$$\n",
        "H(x, y) =\n",
        "\\begin{bmatrix}\n",
        "\\frac{\\partial^2 f}{\\partial x^2} & \\frac{\\partial^2 f}{\\partial x \\partial y} \\\\\n",
        "\\frac{\\partial^2 f}{\\partial y \\partial x} & \\frac{\\partial^2 f}{\\partial y^2}\n",
        "\\end{bmatrix}\n",
        "$$\n",
        "\n",
        "**Обновление по методу Ньютона:**\n",
        "\n",
        "$$\n",
        "x_{k+1} = x_k - H^{-1}(x_k) \\cdot \\nabla f(x_k)\n",
        "$$\n",
        "\n",
        "**Если H вырожден, используется псевдообратная матрица:**\n",
        "\n",
        "$$\n",
        "x_{k+1} = x_k - (H + \\epsilon I)^{-1} \\cdot \\nabla f(x_k)\n",
        "$$\n",
        "\n",
        "**Приближённое численное вычисление второй производной (конечные разности):**\n",
        "\n",
        "$$\n",
        "f_{xx} \\approx \\frac{f(x + \\varepsilon, y) - 2f(x, y) + f(x - \\varepsilon, y)}{\\varepsilon^2}\n",
        "$$\n",
        "\n",
        "$$\n",
        "f_{yy} \\approx \\frac{f(x, y + \\varepsilon) - 2f(x, y) + f(x, y - \\varepsilon)}{\\varepsilon^2}\n",
        "$$\n",
        "\n",
        "$$\n",
        "f_{xy} \\approx \\frac{f(x + \\varepsilon, y + \\varepsilon) - f(x + \\varepsilon, y - \\varepsilon) - f(x - \\varepsilon, y + \\varepsilon) + f(x - \\varepsilon, y - \\varepsilon)}{4\\varepsilon^2}\n",
        "$$\n"
      ],
      "metadata": {
        "id": "YIOAwhXBiqEC"
      }
    },
    {
      "cell_type": "code",
      "source": [
        "def compute_hessian(func, x, y):\n",
        "    epsilon = 1e-5\n",
        "    f_xx = (func(x + epsilon, y) - 2 * func(x, y) + func(x - epsilon, y)) / epsilon ** 2\n",
        "    f_yy = (func(x, y + epsilon) - 2 * func(x, y) + func(x, y - epsilon)) / epsilon ** 2\n",
        "    f_xy = (func(x + epsilon, y + epsilon) - func(x + epsilon, y - epsilon)\n",
        "            - func(x - epsilon, y + epsilon) + func(x - epsilon, y - epsilon)) / (4 * epsilon ** 2)\n",
        "    return np.array([[f_xx, f_xy],\n",
        "                     [f_xy, f_yy]])"
      ],
      "metadata": {
        "id": "8cMKr4ZUgin-"
      },
      "execution_count": null,
      "outputs": []
    },
    {
      "cell_type": "code",
      "source": [
        "#name_func = \"sine_wave\"\n",
        "#name_func = \"Himmelblau\"\n",
        "#name_func = \"Rastrigin\"\n",
        "name_func = \"Rosenbrock\"\n",
        "#name_func = \"Eggholder\"\n",
        "\n",
        "dic_func = {\"sine_wave\": [func_sine_wave, 0, 5],\n",
        "            \"Himmelblau\": [func_Himmelblau, -5, 5],\n",
        "            \"Rastrigin\": [func_Rastrigin, -5.12, 5.12],\n",
        "            \"Rosenbrock\": [func_Rosenbrock, -3, 3],\n",
        "            \"Eggholder\": [func_Eggholder, -512, 512]}\n",
        "\n",
        "func_opt = dic_func[name_func][0]\n",
        "min_x = dic_func[name_func][1]\n",
        "max_x = dic_func[name_func][2]\n",
        "\n",
        "num = 1000\n",
        "x = np.linspace(min_x, max_x, num)\n",
        "y = np.linspace(min_x, max_x, num)\n",
        "X, Y = np.meshgrid(x, y)\n",
        "f_array = func_opt(X, Y)\n",
        "\n",
        "min_index = np.unravel_index(np.argmin(f_array), f_array.shape)\n",
        "x_min = X[min_index]\n",
        "y_min = Y[min_index]\n",
        "min_val = f_array[min_index]\n",
        "\n",
        "print(f\"Оптимизируемая функция: {name_func}\")\n",
        "print(f\"Глобальный минимум на сетке: f({x_min:.5f}, {y_min:.5f}) = {min_val:.5f}\\n\")\n",
        "\n",
        "# Параметры\n",
        "runs = 20\n",
        "iterations = 300\n",
        "tol = 1e-9\n",
        "patience = 10\n",
        "\n",
        "best_fits = []\n",
        "best_xs = []\n",
        "best_ys = []\n",
        "rmse_all = []\n",
        "times = []\n",
        "iterations_stopped = []\n",
        "\n",
        "for run in range(runs):\n",
        "    current = np.array([\n",
        "        np.random.uniform(min_x, max_x),\n",
        "        np.random.uniform(min_x, max_x)\n",
        "    ])\n",
        "\n",
        "    best_fit = func_opt(current[0], current[1])\n",
        "    no_improve_count = 0\n",
        "    stop_iter = iterations\n",
        "\n",
        "    x_pos_all = []\n",
        "    y_pos_all = []\n",
        "\n",
        "    start_time = time.time()\n",
        "\n",
        "    for i in range(iterations):\n",
        "        grad = compute_gradient(func_opt, current[0], current[1])\n",
        "        hess = compute_hessian(func_opt, current[0], current[1])\n",
        "\n",
        "        try:\n",
        "            delta = np.linalg.solve(hess, grad)\n",
        "        except np.linalg.LinAlgError:\n",
        "            delta = np.linalg.lstsq(hess + np.eye(2) * 1e-4, grad, rcond=None)[0]\n",
        "\n",
        "        current -= delta\n",
        "        current[0] = np.clip(current[0], min_x, max_x)\n",
        "        current[1] = np.clip(current[1], min_x, max_x)\n",
        "\n",
        "        x_pos_all.append(current[0])\n",
        "        y_pos_all.append(current[1])\n",
        "\n",
        "        current_fit = func_opt(current[0], current[1])\n",
        "\n",
        "        if abs(best_fit - current_fit) < tol:\n",
        "            no_improve_count += 1\n",
        "        else:\n",
        "            best_fit = current_fit\n",
        "            no_improve_count = 0\n",
        "\n",
        "        if no_improve_count >= patience:\n",
        "            stop_iter = i + 1\n",
        "            break\n",
        "\n",
        "    end_time = time.time()\n",
        "    elapsed_time = end_time - start_time\n",
        "\n",
        "    best_x, best_y = current[0], current[1]\n",
        "    rmse = np.sqrt(((x_min - best_x)**2 + (y_min - best_y)**2) / 2)\n",
        "\n",
        "    best_fits.append(best_fit)\n",
        "    best_xs.append(best_x)\n",
        "    best_ys.append(best_y)\n",
        "    rmse_all.append(rmse)\n",
        "    times.append(elapsed_time)\n",
        "    iterations_stopped.append(stop_iter)\n",
        "\n",
        "    #print(f\"[{run+1:02}] Остановлено на итерации: {stop_iter}, f({best_x:.5f}, {best_y:.5f}) = {best_fit:.5f}, RMSE = {rmse:.5f}\")\n",
        "\n",
        "# Усреднённые значения\n",
        "mean_x = np.mean(best_xs)\n",
        "mean_y = np.mean(best_ys)\n",
        "mean_fit = np.mean(best_fits)\n",
        "\n",
        "print(f\"Среднее количество итераций: {np.mean(iterations_stopped):.1f}\")\n",
        "print(f\"Среднее время выполнения: {np.mean(times):.2f} секунд\")\n",
        "print(f\"Найденный минимум: f({mean_x:.5f}, {mean_y:.5f}) = {mean_fit:.5f}\")\n",
        "print(f\"RMSE: {np.mean(rmse_all):.5f}\")"
      ],
      "metadata": {
        "colab": {
          "base_uri": "https://localhost:8080/"
        },
        "id": "1ovq_wsWgkFM",
        "outputId": "5f3427e9-ec8b-4abc-ee8a-627d2b9ea7e2"
      },
      "execution_count": null,
      "outputs": [
        {
          "output_type": "stream",
          "name": "stdout",
          "text": [
            "Оптимизируемая функция: Rosenbrock\n",
            "Глобальный минимум на сетке: f(1.00000, 1.00000) = 0.00000\n",
            "\n",
            "Среднее количество итераций: 45.4\n",
            "Среднее время выполнения: 0.00 секунд\n",
            "Найденный минимум: f(1.00000, 1.00000) = 0.00000\n",
            "RMSE: 0.00000\n"
          ]
        }
      ]
    },
    {
      "cell_type": "markdown",
      "source": [
        "####Результаты (метод Ньютона)"
      ],
      "metadata": {
        "id": "5FkOKITulGfq"
      }
    },
    {
      "cell_type": "markdown",
      "source": [
        "| Оптимизируемая функция | Глобальный минимум на сетке           | Среднее количество итераций | Среднее время (сек) | Найденный минимум                   | RMSE     |\n",
        "|------------------------|---------------------------------------|------------------------------|---------------------|--------------------------------------|----------|\n",
        "| sine_wave              | f(3.18318, 3.12813) = -1.80831        | 144.2                        | 0.01                | f(2.34854, 2.33476) = 5.04451        | 1.55849  |\n",
        "| Himmelblau             | f(2.99800, 1.99700) = 0.00042         | 15.1                         | 0.00                | f(-0.10122, -0.43104) = 36.33083     | 3.24182  |\n",
        "| Rastrigin              | f(-0.00513, -0.00513) = 0.01042       | 13.8                         | 0.01                | f(-0.77946, 0.95129) = 30.80379      | 2.47196  |\n",
        "| Rosenbrock             | f(1.00000, 1.00000) = 0.00000         | 42.0                         | 0.00                | f(1.00000, 1.00000) = 0.00000        | 0.00000  |\n",
        "| Eggholder              | f(512.00000, 404.37237) = -959.61818  | 56.9                         | 0.01                | f(18.14510, 64.39838) = -24.72344    | 476.35185|\n"
      ],
      "metadata": {
        "id": "t5B6wPkIlE47"
      }
    },
    {
      "cell_type": "markdown",
      "source": [
        "##Вывод:"
      ],
      "metadata": {
        "id": "JEPaTq1rpxVI"
      }
    },
    {
      "cell_type": "markdown",
      "source": [
        "###По точности нахождения минимума:\n",
        "\n",
        "Алгоритм летучих мышей показал наивысшую точность нахождения глобального минимума на всех тестовых функциях.\n",
        "\n",
        "  * sine_wave, Himmelblau, Rastrigin, Rosenbrock  — RMSE близок к нулю.\n",
        "  * На сложной функции Eggholder результат близок к оптимальному значению.\n",
        "\n",
        "Градиентный спуск и метод Ньютона продемонстрировали значительные отклонения от глобального минимума. Единственное исключение — метод Ньютона на Rosenbrock, где он точно достиг глобального минимума.\n",
        "\n",
        "###По скорости выполнения:\n",
        "\n",
        "Метод Ньютона — самый быстрый, но его высокая скорость достигается за счёт сильной зависимости от выбора начальной точки, что делает его уязвимым на сложных функциях.\n",
        "\n",
        "Градиентный спуск — немного медленнее, но стабильнее на простых задачах.\n",
        "\n",
        "Алгоритм летучих мышей — самый медленный, но выигрывает в качестве найденного решения.\n",
        "\n",
        "###По числу итераций до сходимости:\n",
        "\n",
        "Метод Ньютона требует много итераций на некоторых функциях.\n",
        "\n",
        "Градиентный спуск — умеренное число итераций, но часто сходится к локальным минимумам.\n",
        "\n",
        "Алгоритм летучих мышей — умеренное число итераций.\n",
        "\n",
        "\n",
        "\n",
        "**Таким образом, для задач, где приоритет — точность алгоритм летучих мышей — лучший выбор, несмотря на большую затрату времени.**"
      ],
      "metadata": {
        "id": "OhVHsoZYp0z_"
      }
    }
  ]
}